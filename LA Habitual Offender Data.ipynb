{
 "cells": [
  {
   "cell_type": "code",
   "execution_count": 1,
   "id": "f442809d",
   "metadata": {},
   "outputs": [],
   "source": [
    "import pandas as pd"
   ]
  },
  {
   "cell_type": "code",
   "execution_count": 2,
   "id": "cb8d558f",
   "metadata": {},
   "outputs": [],
   "source": [
    "la_ho_data = pd.read_csv(\"/mnt/c/Users/ethan/la_ho_data.csv\")"
   ]
  },
  {
   "cell_type": "code",
   "execution_count": 3,
   "id": "c5daae2f",
   "metadata": {},
   "outputs": [
    {
     "data": {
      "text/html": [
       "<div>\n",
       "<style scoped>\n",
       "    .dataframe tbody tr th:only-of-type {\n",
       "        vertical-align: middle;\n",
       "    }\n",
       "\n",
       "    .dataframe tbody tr th {\n",
       "        vertical-align: top;\n",
       "    }\n",
       "\n",
       "    .dataframe thead th {\n",
       "        text-align: right;\n",
       "    }\n",
       "</style>\n",
       "<table border=\"1\" class=\"dataframe\">\n",
       "  <thead>\n",
       "    <tr style=\"text-align: right;\">\n",
       "      <th></th>\n",
       "      <th>Last Name</th>\n",
       "      <th>First Name</th>\n",
       "      <th>Middle Initial</th>\n",
       "      <th>DOC Number</th>\n",
       "      <th>Gender</th>\n",
       "      <th>Race</th>\n",
       "      <th>Current Age</th>\n",
       "      <th>Birth Date</th>\n",
       "      <th>Offense Statute</th>\n",
       "      <th>Modifier 1</th>\n",
       "      <th>Modifier 2</th>\n",
       "      <th>Drug Activity</th>\n",
       "      <th>Offense Date</th>\n",
       "      <th>Sentence Date</th>\n",
       "      <th>Imposed Length</th>\n",
       "      <th>Overall Sentence Length</th>\n",
       "      <th>Parish Literal</th>\n",
       "    </tr>\n",
       "  </thead>\n",
       "  <tbody>\n",
       "    <tr>\n",
       "      <th>0</th>\n",
       "      <td>GRAY</td>\n",
       "      <td>JOSEPH</td>\n",
       "      <td>NaN</td>\n",
       "      <td>72486</td>\n",
       "      <td>M</td>\n",
       "      <td>B</td>\n",
       "      <td>81.90</td>\n",
       "      <td>19400110</td>\n",
       "      <td>14:64</td>\n",
       "      <td>H</td>\n",
       "      <td>NaN</td>\n",
       "      <td>NaN</td>\n",
       "      <td>19880408.0</td>\n",
       "      <td>19890105.0</td>\n",
       "      <td>LIFE</td>\n",
       "      <td>LIFE</td>\n",
       "      <td>IBERVILLE</td>\n",
       "    </tr>\n",
       "    <tr>\n",
       "      <th>1</th>\n",
       "      <td>GRAY</td>\n",
       "      <td>JOSEPH</td>\n",
       "      <td>NaN</td>\n",
       "      <td>72486</td>\n",
       "      <td>M</td>\n",
       "      <td>B</td>\n",
       "      <td>81.90</td>\n",
       "      <td>19400110</td>\n",
       "      <td>14:64</td>\n",
       "      <td>NaN</td>\n",
       "      <td>NaN</td>\n",
       "      <td>NaN</td>\n",
       "      <td>19880229.0</td>\n",
       "      <td>19930712.0</td>\n",
       "      <td>0150000</td>\n",
       "      <td>LIFE</td>\n",
       "      <td>IBERVILLE</td>\n",
       "    </tr>\n",
       "    <tr>\n",
       "      <th>2</th>\n",
       "      <td>MARTIN</td>\n",
       "      <td>WENDELL</td>\n",
       "      <td>A</td>\n",
       "      <td>72879</td>\n",
       "      <td>M</td>\n",
       "      <td>B</td>\n",
       "      <td>68.94</td>\n",
       "      <td>19521225</td>\n",
       "      <td>14:31</td>\n",
       "      <td>NaN</td>\n",
       "      <td>NaN</td>\n",
       "      <td>NaN</td>\n",
       "      <td>19711101.0</td>\n",
       "      <td>19880811.0</td>\n",
       "      <td>0080000</td>\n",
       "      <td>LIFE</td>\n",
       "      <td>ORLEANS</td>\n",
       "    </tr>\n",
       "    <tr>\n",
       "      <th>3</th>\n",
       "      <td>MARTIN</td>\n",
       "      <td>WENDELL</td>\n",
       "      <td>A</td>\n",
       "      <td>72879</td>\n",
       "      <td>M</td>\n",
       "      <td>B</td>\n",
       "      <td>68.94</td>\n",
       "      <td>19521225</td>\n",
       "      <td>14:62</td>\n",
       "      <td>H</td>\n",
       "      <td>NaN</td>\n",
       "      <td>NaN</td>\n",
       "      <td>19780301.0</td>\n",
       "      <td>19880811.0</td>\n",
       "      <td>0150000</td>\n",
       "      <td>LIFE</td>\n",
       "      <td>ORLEANS</td>\n",
       "    </tr>\n",
       "    <tr>\n",
       "      <th>4</th>\n",
       "      <td>MARTIN</td>\n",
       "      <td>WENDELL</td>\n",
       "      <td>A</td>\n",
       "      <td>72879</td>\n",
       "      <td>M</td>\n",
       "      <td>B</td>\n",
       "      <td>68.94</td>\n",
       "      <td>19521225</td>\n",
       "      <td>14:30.1</td>\n",
       "      <td>NaN</td>\n",
       "      <td>NaN</td>\n",
       "      <td>NaN</td>\n",
       "      <td>19850424.0</td>\n",
       "      <td>19860210.0</td>\n",
       "      <td>LIFE</td>\n",
       "      <td>LIFE</td>\n",
       "      <td>ORLEANS</td>\n",
       "    </tr>\n",
       "  </tbody>\n",
       "</table>\n",
       "</div>"
      ],
      "text/plain": [
       "  Last Name First Name Middle Initial  DOC Number Gender Race Current Age  \\\n",
       "0      GRAY     JOSEPH            NaN       72486      M    B       81.90   \n",
       "1      GRAY     JOSEPH            NaN       72486      M    B       81.90   \n",
       "2    MARTIN    WENDELL              A       72879      M    B       68.94   \n",
       "3    MARTIN    WENDELL              A       72879      M    B       68.94   \n",
       "4    MARTIN    WENDELL              A       72879      M    B       68.94   \n",
       "\n",
       "   Birth Date Offense Statute Modifier 1 Modifier 2 Drug Activity  \\\n",
       "0    19400110           14:64          H        NaN           NaN   \n",
       "1    19400110           14:64        NaN        NaN           NaN   \n",
       "2    19521225           14:31        NaN        NaN           NaN   \n",
       "3    19521225           14:62          H        NaN           NaN   \n",
       "4    19521225         14:30.1        NaN        NaN           NaN   \n",
       "\n",
       "   Offense Date  Sentence Date Imposed Length Overall Sentence Length  \\\n",
       "0    19880408.0     19890105.0           LIFE                    LIFE   \n",
       "1    19880229.0     19930712.0        0150000                    LIFE   \n",
       "2    19711101.0     19880811.0        0080000                    LIFE   \n",
       "3    19780301.0     19880811.0        0150000                    LIFE   \n",
       "4    19850424.0     19860210.0           LIFE                    LIFE   \n",
       "\n",
       "  Parish Literal  \n",
       "0      IBERVILLE  \n",
       "1      IBERVILLE  \n",
       "2        ORLEANS  \n",
       "3        ORLEANS  \n",
       "4        ORLEANS  "
      ]
     },
     "execution_count": 3,
     "metadata": {},
     "output_type": "execute_result"
    }
   ],
   "source": [
    "la_ho_data.head()"
   ]
  },
  {
   "cell_type": "markdown",
   "id": "ddb68df6",
   "metadata": {},
   "source": [
    "## Filtering the Data\n",
    "We're interested in the charges that led to the habitual offender sentence, so we first have to filter the rows to only include those charges."
   ]
  },
  {
   "cell_type": "code",
   "execution_count": 4,
   "id": "61505596",
   "metadata": {},
   "outputs": [
    {
     "data": {
      "text/html": [
       "<div>\n",
       "<style scoped>\n",
       "    .dataframe tbody tr th:only-of-type {\n",
       "        vertical-align: middle;\n",
       "    }\n",
       "\n",
       "    .dataframe tbody tr th {\n",
       "        vertical-align: top;\n",
       "    }\n",
       "\n",
       "    .dataframe thead th {\n",
       "        text-align: right;\n",
       "    }\n",
       "</style>\n",
       "<table border=\"1\" class=\"dataframe\">\n",
       "  <thead>\n",
       "    <tr style=\"text-align: right;\">\n",
       "      <th></th>\n",
       "      <th>Last Name</th>\n",
       "      <th>First Name</th>\n",
       "      <th>Middle Initial</th>\n",
       "      <th>DOC Number</th>\n",
       "      <th>Gender</th>\n",
       "      <th>Race</th>\n",
       "      <th>Current Age</th>\n",
       "      <th>Birth Date</th>\n",
       "      <th>Offense Statute</th>\n",
       "      <th>Modifier 1</th>\n",
       "      <th>Modifier 2</th>\n",
       "      <th>Drug Activity</th>\n",
       "      <th>Offense Date</th>\n",
       "      <th>Sentence Date</th>\n",
       "      <th>Imposed Length</th>\n",
       "      <th>Overall Sentence Length</th>\n",
       "      <th>Parish Literal</th>\n",
       "    </tr>\n",
       "  </thead>\n",
       "  <tbody>\n",
       "    <tr>\n",
       "      <th>0</th>\n",
       "      <td>GRAY</td>\n",
       "      <td>JOSEPH</td>\n",
       "      <td>NaN</td>\n",
       "      <td>72486</td>\n",
       "      <td>M</td>\n",
       "      <td>B</td>\n",
       "      <td>81.90</td>\n",
       "      <td>19400110</td>\n",
       "      <td>14:64</td>\n",
       "      <td>H</td>\n",
       "      <td>NaN</td>\n",
       "      <td>NaN</td>\n",
       "      <td>19880408.0</td>\n",
       "      <td>19890105.0</td>\n",
       "      <td>LIFE</td>\n",
       "      <td>LIFE</td>\n",
       "      <td>IBERVILLE</td>\n",
       "    </tr>\n",
       "    <tr>\n",
       "      <th>3</th>\n",
       "      <td>MARTIN</td>\n",
       "      <td>WENDELL</td>\n",
       "      <td>A</td>\n",
       "      <td>72879</td>\n",
       "      <td>M</td>\n",
       "      <td>B</td>\n",
       "      <td>68.94</td>\n",
       "      <td>19521225</td>\n",
       "      <td>14:62</td>\n",
       "      <td>H</td>\n",
       "      <td>NaN</td>\n",
       "      <td>NaN</td>\n",
       "      <td>19780301.0</td>\n",
       "      <td>19880811.0</td>\n",
       "      <td>0150000</td>\n",
       "      <td>LIFE</td>\n",
       "      <td>ORLEANS</td>\n",
       "    </tr>\n",
       "    <tr>\n",
       "      <th>5</th>\n",
       "      <td>FINLEY</td>\n",
       "      <td>DOLPH</td>\n",
       "      <td>NaN</td>\n",
       "      <td>75033</td>\n",
       "      <td>M</td>\n",
       "      <td>B</td>\n",
       "      <td>72.38</td>\n",
       "      <td>19490719</td>\n",
       "      <td>14:64.1</td>\n",
       "      <td>H</td>\n",
       "      <td>NaN</td>\n",
       "      <td>NaN</td>\n",
       "      <td>19860609.0</td>\n",
       "      <td>20130118.0</td>\n",
       "      <td>0290629</td>\n",
       "      <td>0290629</td>\n",
       "      <td>RAPIDES</td>\n",
       "    </tr>\n",
       "    <tr>\n",
       "      <th>7</th>\n",
       "      <td>GORDON</td>\n",
       "      <td>DANIEL</td>\n",
       "      <td>NaN</td>\n",
       "      <td>78855</td>\n",
       "      <td>M</td>\n",
       "      <td>B</td>\n",
       "      <td>66.73</td>\n",
       "      <td>19550312</td>\n",
       "      <td>14:65</td>\n",
       "      <td>H</td>\n",
       "      <td>NaN</td>\n",
       "      <td>NaN</td>\n",
       "      <td>19961017.0</td>\n",
       "      <td>20110401.0</td>\n",
       "      <td>0140000</td>\n",
       "      <td>LIFE</td>\n",
       "      <td>ORLEANS</td>\n",
       "    </tr>\n",
       "    <tr>\n",
       "      <th>12</th>\n",
       "      <td>NICHOLAS</td>\n",
       "      <td>MICHAEL</td>\n",
       "      <td>NaN</td>\n",
       "      <td>81555</td>\n",
       "      <td>M</td>\n",
       "      <td>B</td>\n",
       "      <td>70.04</td>\n",
       "      <td>19511119</td>\n",
       "      <td>14:67</td>\n",
       "      <td>H</td>\n",
       "      <td>NaN</td>\n",
       "      <td>NaN</td>\n",
       "      <td>19960320.0</td>\n",
       "      <td>19970523.0</td>\n",
       "      <td>LIFE</td>\n",
       "      <td>LIFE</td>\n",
       "      <td>ORLEANS</td>\n",
       "    </tr>\n",
       "    <tr>\n",
       "      <th>...</th>\n",
       "      <td>...</td>\n",
       "      <td>...</td>\n",
       "      <td>...</td>\n",
       "      <td>...</td>\n",
       "      <td>...</td>\n",
       "      <td>...</td>\n",
       "      <td>...</td>\n",
       "      <td>...</td>\n",
       "      <td>...</td>\n",
       "      <td>...</td>\n",
       "      <td>...</td>\n",
       "      <td>...</td>\n",
       "      <td>...</td>\n",
       "      <td>...</td>\n",
       "      <td>...</td>\n",
       "      <td>...</td>\n",
       "      <td>...</td>\n",
       "    </tr>\n",
       "    <tr>\n",
       "      <th>2591</th>\n",
       "      <td>BARKER</td>\n",
       "      <td>SAMUEL</td>\n",
       "      <td>J</td>\n",
       "      <td>718022</td>\n",
       "      <td>M</td>\n",
       "      <td>W</td>\n",
       "      <td>65.29</td>\n",
       "      <td>19560818</td>\n",
       "      <td>14:62.2</td>\n",
       "      <td>A</td>\n",
       "      <td>H</td>\n",
       "      <td>NaN</td>\n",
       "      <td>20150614.0</td>\n",
       "      <td>20170720.0</td>\n",
       "      <td>0200000</td>\n",
       "      <td>LIFE</td>\n",
       "      <td>ORLEANS</td>\n",
       "    </tr>\n",
       "    <tr>\n",
       "      <th>2592</th>\n",
       "      <td>BARKER</td>\n",
       "      <td>SAMUEL</td>\n",
       "      <td>J</td>\n",
       "      <td>718022</td>\n",
       "      <td>M</td>\n",
       "      <td>W</td>\n",
       "      <td>65.29</td>\n",
       "      <td>19560818</td>\n",
       "      <td>14:67.B(1)</td>\n",
       "      <td>H</td>\n",
       "      <td>NaN</td>\n",
       "      <td>NaN</td>\n",
       "      <td>20150613.0</td>\n",
       "      <td>20170720.0</td>\n",
       "      <td>0200000</td>\n",
       "      <td>LIFE</td>\n",
       "      <td>ORLEANS</td>\n",
       "    </tr>\n",
       "    <tr>\n",
       "      <th>2594</th>\n",
       "      <td>DEGREGORY</td>\n",
       "      <td>CRISTIAN</td>\n",
       "      <td>J</td>\n",
       "      <td>723089</td>\n",
       "      <td>M</td>\n",
       "      <td>W</td>\n",
       "      <td>40.81</td>\n",
       "      <td>19810209</td>\n",
       "      <td>14:93.2.3</td>\n",
       "      <td>H</td>\n",
       "      <td>NaN</td>\n",
       "      <td>NaN</td>\n",
       "      <td>20150526.0</td>\n",
       "      <td>20180126.0</td>\n",
       "      <td>0500000</td>\n",
       "      <td>0500000</td>\n",
       "      <td>ORLEANS</td>\n",
       "    </tr>\n",
       "    <tr>\n",
       "      <th>2596</th>\n",
       "      <td>PERKINS</td>\n",
       "      <td>WADE</td>\n",
       "      <td>H</td>\n",
       "      <td>725743</td>\n",
       "      <td>M</td>\n",
       "      <td>W</td>\n",
       "      <td>36.27</td>\n",
       "      <td>19850828</td>\n",
       "      <td>14:81.1</td>\n",
       "      <td>H</td>\n",
       "      <td>2</td>\n",
       "      <td>NaN</td>\n",
       "      <td>20160428.0</td>\n",
       "      <td>20170919.0</td>\n",
       "      <td>0260400</td>\n",
       "      <td>0260400</td>\n",
       "      <td>JEFFERSON</td>\n",
       "    </tr>\n",
       "    <tr>\n",
       "      <th>2597</th>\n",
       "      <td>BUTLER</td>\n",
       "      <td>LAVAR</td>\n",
       "      <td>NaN</td>\n",
       "      <td>744130</td>\n",
       "      <td>M</td>\n",
       "      <td>B</td>\n",
       "      <td>24.74</td>\n",
       "      <td>19970306</td>\n",
       "      <td>14:31</td>\n",
       "      <td>H</td>\n",
       "      <td>NaN</td>\n",
       "      <td>NaN</td>\n",
       "      <td>20171206.0</td>\n",
       "      <td>20190513.0</td>\n",
       "      <td>0600000</td>\n",
       "      <td>0600000</td>\n",
       "      <td>ORLEANS</td>\n",
       "    </tr>\n",
       "  </tbody>\n",
       "</table>\n",
       "<p>1194 rows × 17 columns</p>\n",
       "</div>"
      ],
      "text/plain": [
       "      Last Name First Name Middle Initial  DOC Number Gender Race Current Age  \\\n",
       "0          GRAY     JOSEPH            NaN       72486      M    B       81.90   \n",
       "3        MARTIN    WENDELL              A       72879      M    B       68.94   \n",
       "5        FINLEY      DOLPH            NaN       75033      M    B       72.38   \n",
       "7        GORDON     DANIEL            NaN       78855      M    B       66.73   \n",
       "12     NICHOLAS    MICHAEL            NaN       81555      M    B       70.04   \n",
       "...         ...        ...            ...         ...    ...  ...         ...   \n",
       "2591     BARKER     SAMUEL              J      718022      M    W       65.29   \n",
       "2592     BARKER     SAMUEL              J      718022      M    W       65.29   \n",
       "2594  DEGREGORY   CRISTIAN              J      723089      M    W       40.81   \n",
       "2596    PERKINS       WADE              H      725743      M    W       36.27   \n",
       "2597     BUTLER      LAVAR            NaN      744130      M    B       24.74   \n",
       "\n",
       "      Birth Date Offense Statute Modifier 1 Modifier 2 Drug Activity  \\\n",
       "0       19400110           14:64          H        NaN           NaN   \n",
       "3       19521225           14:62          H        NaN           NaN   \n",
       "5       19490719         14:64.1          H        NaN           NaN   \n",
       "7       19550312           14:65          H        NaN           NaN   \n",
       "12      19511119           14:67          H        NaN           NaN   \n",
       "...          ...             ...        ...        ...           ...   \n",
       "2591    19560818         14:62.2          A          H           NaN   \n",
       "2592    19560818      14:67.B(1)          H        NaN           NaN   \n",
       "2594    19810209       14:93.2.3          H        NaN           NaN   \n",
       "2596    19850828         14:81.1          H          2           NaN   \n",
       "2597    19970306           14:31          H        NaN           NaN   \n",
       "\n",
       "      Offense Date  Sentence Date Imposed Length Overall Sentence Length  \\\n",
       "0       19880408.0     19890105.0           LIFE                    LIFE   \n",
       "3       19780301.0     19880811.0        0150000                    LIFE   \n",
       "5       19860609.0     20130118.0        0290629                 0290629   \n",
       "7       19961017.0     20110401.0        0140000                    LIFE   \n",
       "12      19960320.0     19970523.0           LIFE                    LIFE   \n",
       "...            ...            ...            ...                     ...   \n",
       "2591    20150614.0     20170720.0        0200000                    LIFE   \n",
       "2592    20150613.0     20170720.0        0200000                    LIFE   \n",
       "2594    20150526.0     20180126.0        0500000                 0500000   \n",
       "2596    20160428.0     20170919.0        0260400                 0260400   \n",
       "2597    20171206.0     20190513.0        0600000                 0600000   \n",
       "\n",
       "     Parish Literal  \n",
       "0         IBERVILLE  \n",
       "3           ORLEANS  \n",
       "5           RAPIDES  \n",
       "7           ORLEANS  \n",
       "12          ORLEANS  \n",
       "...             ...  \n",
       "2591        ORLEANS  \n",
       "2592        ORLEANS  \n",
       "2594        ORLEANS  \n",
       "2596      JEFFERSON  \n",
       "2597        ORLEANS  \n",
       "\n",
       "[1194 rows x 17 columns]"
      ]
     },
     "execution_count": 4,
     "metadata": {},
     "output_type": "execute_result"
    }
   ],
   "source": [
    "only_hos = la_ho_data.loc[\n",
    "    (la_ho_data[\"Modifier 1\"] == \"H\")\n",
    "    | (la_ho_data[\"Modifier 2\"] == \"H\")\n",
    "]\n",
    "only_hos"
   ]
  },
  {
   "cell_type": "markdown",
   "id": "8a0e0cc3",
   "metadata": {},
   "source": [
    "## Reformatting the Data\n",
    "Since our goal here is to calculate the number of people serving sentences longer than 20 years for each offense/category of offenses, the first thing we want to do is create columsn for each offense category so that we don't have to keep track of each offense code: group the data by DOC number:"
   ]
  },
  {
   "cell_type": "markdown",
   "id": "826a1939",
   "metadata": {},
   "source": [
    "#### First-Degree Murder\n",
    "People charged with first-degree murder have `14:30` in the `Offense Statute`. Note that `14:30.1` should _not_ be included, as this indicates second-degree murder. Because we didn't do much data cleaning, we need to double-check that there aren't any weirdly formatted offense codes that would be missed by a straightforward search:"
   ]
  },
  {
   "cell_type": "code",
   "execution_count": 5,
   "id": "26164637",
   "metadata": {},
   "outputs": [
    {
     "data": {
      "text/plain": [
       "14:30.1     41\n",
       "14:30       24\n",
       "14:130.1     9\n",
       "Name: Offense Statute, dtype: int64"
      ]
     },
     "execution_count": 5,
     "metadata": {},
     "output_type": "execute_result"
    }
   ],
   "source": [
    "only_hos.loc[\n",
    "    only_hos[\"Offense Statute\"].str.contains(\"14\")\n",
    "    & only_hos[\"Offense Statute\"].str.contains(\"30\"),\n",
    "    \"Offense Statute\"\n",
    "].value_counts()"
   ]
  },
  {
   "cell_type": "markdown",
   "id": "7c16712c",
   "metadata": {},
   "source": [
    "The check looks good, so a simple search should be fine."
   ]
  },
  {
   "cell_type": "code",
   "execution_count": 6,
   "id": "f3418062",
   "metadata": {},
   "outputs": [],
   "source": [
    "first_degree_murder = (only_hos[\"Offense Statute\"] == \"14:30\")"
   ]
  },
  {
   "cell_type": "code",
   "execution_count": 7,
   "id": "d707a4a3",
   "metadata": {},
   "outputs": [
    {
     "data": {
      "text/plain": [
       "24"
      ]
     },
     "execution_count": 7,
     "metadata": {},
     "output_type": "execute_result"
    }
   ],
   "source": [
    "first_degree_murder.sum()"
   ]
  },
  {
   "cell_type": "markdown",
   "id": "98a3a51c",
   "metadata": {},
   "source": [
    "#### Second Degree Murder\n",
    "We calculate this much the same way, just replacing `14:30` with `14:30.1`."
   ]
  },
  {
   "cell_type": "code",
   "execution_count": 8,
   "id": "1d79d45a",
   "metadata": {},
   "outputs": [],
   "source": [
    "second_degree_murder = (only_hos[\"Offense Statute\"] == \"14:30.1\")"
   ]
  },
  {
   "cell_type": "code",
   "execution_count": 9,
   "id": "45157474",
   "metadata": {},
   "outputs": [
    {
     "data": {
      "text/plain": [
       "41"
      ]
     },
     "execution_count": 9,
     "metadata": {},
     "output_type": "execute_result"
    }
   ],
   "source": [
    "second_degree_murder.sum()"
   ]
  },
  {
   "cell_type": "markdown",
   "id": "e2562e29",
   "metadata": {},
   "source": [
    "### Rape\n",
    "There are three statutes that correspond to rape: `14.42` (First degree rape), `14.42.1` (Second degree rape), and `14.43` (Third degree rape). Before doing a search for these codes, we perform a similar check to make sure there aren't any weirdly formated codes."
   ]
  },
  {
   "cell_type": "code",
   "execution_count": 10,
   "id": "24609425",
   "metadata": {},
   "outputs": [
    {
     "data": {
      "text/plain": [
       "14:42.1    31\n",
       "14:42      17\n",
       "14:43.1    11\n",
       "14:43       4\n",
       "14:43.3     2\n",
       "14:43.4     1\n",
       "14:43.2     1\n",
       "Name: Offense Statute, dtype: int64"
      ]
     },
     "execution_count": 10,
     "metadata": {},
     "output_type": "execute_result"
    }
   ],
   "source": [
    "only_hos.loc[\n",
    "    only_hos[\"Offense Statute\"].str.contains(\"14\")\n",
    "    & only_hos[\"Offense Statute\"].str.contains(\"42|43\"),\n",
    "    \"Offense Statute\"\n",
    "].value_counts()"
   ]
  },
  {
   "cell_type": "markdown",
   "id": "37728556",
   "metadata": {},
   "source": [
    "Also looks good, but note that `14:43.X` should _not_ be included, as these refer to less serious offenses, such as misdemeanor sexual battery."
   ]
  },
  {
   "cell_type": "code",
   "execution_count": 11,
   "id": "b09707e1",
   "metadata": {},
   "outputs": [],
   "source": [
    "rape = (\n",
    "    only_hos[\"Offense Statute\"].str.match(\"14:42|14:43$\")  # The $ excludes all of the 14.43.X codes\n",
    ")"
   ]
  },
  {
   "cell_type": "code",
   "execution_count": 12,
   "id": "35bc74a4",
   "metadata": {},
   "outputs": [
    {
     "data": {
      "text/plain": [
       "52"
      ]
     },
     "execution_count": 12,
     "metadata": {},
     "output_type": "execute_result"
    }
   ],
   "source": [
    "rape.sum()"
   ]
  },
  {
   "cell_type": "markdown",
   "id": "b1333373",
   "metadata": {},
   "source": [
    "#### Drug offenses\n",
    "Drug offenses are scattered across a bunch of different offense codes. Fortunately, we have the `Drug Activity` column, so we don't need to rely on the offense codes."
   ]
  },
  {
   "cell_type": "code",
   "execution_count": 13,
   "id": "73ec901d",
   "metadata": {},
   "outputs": [
    {
     "data": {
      "text/plain": [
       "POSS    70\n",
       "PWID    39\n",
       "DIST    35\n",
       "CWID     1\n",
       "Name: Drug Activity, dtype: int64"
      ]
     },
     "execution_count": 13,
     "metadata": {},
     "output_type": "execute_result"
    }
   ],
   "source": [
    "only_hos[\"Drug Activity\"].value_counts()"
   ]
  },
  {
   "cell_type": "markdown",
   "id": "f2ac60c2",
   "metadata": {},
   "source": [
    "Thus, we can ID all drug offenses based on whether or not the `Drug Activity` column is empty."
   ]
  },
  {
   "cell_type": "code",
   "execution_count": 14,
   "id": "f04ef42b",
   "metadata": {},
   "outputs": [],
   "source": [
    "drugs = ~only_hos[\"Drug Activity\"].isna()"
   ]
  },
  {
   "cell_type": "code",
   "execution_count": 15,
   "id": "5855295f",
   "metadata": {},
   "outputs": [
    {
     "data": {
      "text/plain": [
       "145"
      ]
     },
     "execution_count": 15,
     "metadata": {},
     "output_type": "execute_result"
    }
   ],
   "source": [
    "drugs.sum()"
   ]
  },
  {
   "cell_type": "markdown",
   "id": "7816663d",
   "metadata": {},
   "source": [
    "#### Possession, PWID, and distribution"
   ]
  },
  {
   "cell_type": "markdown",
   "id": "8bcd9021",
   "metadata": {},
   "source": [
    "Similarly, we can rely on the `Drug Activity` column again here:"
   ]
  },
  {
   "cell_type": "code",
   "execution_count": 16,
   "id": "bade3a3e",
   "metadata": {},
   "outputs": [],
   "source": [
    "poss = only_hos[\"Drug Activity\"] == \"POSS\""
   ]
  },
  {
   "cell_type": "code",
   "execution_count": 17,
   "id": "6cb38284",
   "metadata": {},
   "outputs": [
    {
     "data": {
      "text/plain": [
       "70"
      ]
     },
     "execution_count": 17,
     "metadata": {},
     "output_type": "execute_result"
    }
   ],
   "source": [
    "poss.sum()"
   ]
  },
  {
   "cell_type": "code",
   "execution_count": 18,
   "id": "88d60c3c",
   "metadata": {},
   "outputs": [],
   "source": [
    "pwid = only_hos[\"Drug Activity\"] == \"PWID\""
   ]
  },
  {
   "cell_type": "code",
   "execution_count": 19,
   "id": "ed1f174a",
   "metadata": {},
   "outputs": [
    {
     "data": {
      "text/plain": [
       "39"
      ]
     },
     "execution_count": 19,
     "metadata": {},
     "output_type": "execute_result"
    }
   ],
   "source": [
    "pwid.sum()"
   ]
  },
  {
   "cell_type": "code",
   "execution_count": 20,
   "id": "1a270de7",
   "metadata": {},
   "outputs": [],
   "source": [
    "dist = only_hos[\"Drug Activity\"] == \"DIST\""
   ]
  },
  {
   "cell_type": "code",
   "execution_count": 21,
   "id": "4ea04471",
   "metadata": {},
   "outputs": [
    {
     "data": {
      "text/plain": [
       "35"
      ]
     },
     "execution_count": 21,
     "metadata": {},
     "output_type": "execute_result"
    }
   ],
   "source": [
    "dist.sum()"
   ]
  },
  {
   "cell_type": "markdown",
   "id": "3a59e14f",
   "metadata": {},
   "source": [
    "### Combining results\n",
    "Now we can add these new columns to a new DataFrame:"
   ]
  },
  {
   "cell_type": "code",
   "execution_count": 22,
   "id": "eb93aaaf",
   "metadata": {
    "scrolled": true
   },
   "outputs": [
    {
     "data": {
      "text/html": [
       "<div>\n",
       "<style scoped>\n",
       "    .dataframe tbody tr th:only-of-type {\n",
       "        vertical-align: middle;\n",
       "    }\n",
       "\n",
       "    .dataframe tbody tr th {\n",
       "        vertical-align: top;\n",
       "    }\n",
       "\n",
       "    .dataframe thead th {\n",
       "        text-align: right;\n",
       "    }\n",
       "</style>\n",
       "<table border=\"1\" class=\"dataframe\">\n",
       "  <thead>\n",
       "    <tr style=\"text-align: right;\">\n",
       "      <th></th>\n",
       "      <th>Last Name</th>\n",
       "      <th>First Name</th>\n",
       "      <th>Middle Initial</th>\n",
       "      <th>DOC Number</th>\n",
       "      <th>Gender</th>\n",
       "      <th>Race</th>\n",
       "      <th>Current Age</th>\n",
       "      <th>Birth Date</th>\n",
       "      <th>Offense Statute</th>\n",
       "      <th>Modifier 1</th>\n",
       "      <th>...</th>\n",
       "      <th>Imposed Length</th>\n",
       "      <th>Overall Sentence Length</th>\n",
       "      <th>Parish Literal</th>\n",
       "      <th>first_degree_murder</th>\n",
       "      <th>second_degree_murder</th>\n",
       "      <th>rape</th>\n",
       "      <th>drugs</th>\n",
       "      <th>poss</th>\n",
       "      <th>pwid</th>\n",
       "      <th>dist</th>\n",
       "    </tr>\n",
       "  </thead>\n",
       "  <tbody>\n",
       "    <tr>\n",
       "      <th>0</th>\n",
       "      <td>GRAY</td>\n",
       "      <td>JOSEPH</td>\n",
       "      <td>NaN</td>\n",
       "      <td>72486</td>\n",
       "      <td>M</td>\n",
       "      <td>B</td>\n",
       "      <td>81.90</td>\n",
       "      <td>19400110</td>\n",
       "      <td>14:64</td>\n",
       "      <td>H</td>\n",
       "      <td>...</td>\n",
       "      <td>LIFE</td>\n",
       "      <td>LIFE</td>\n",
       "      <td>IBERVILLE</td>\n",
       "      <td>False</td>\n",
       "      <td>False</td>\n",
       "      <td>False</td>\n",
       "      <td>False</td>\n",
       "      <td>False</td>\n",
       "      <td>False</td>\n",
       "      <td>False</td>\n",
       "    </tr>\n",
       "    <tr>\n",
       "      <th>3</th>\n",
       "      <td>MARTIN</td>\n",
       "      <td>WENDELL</td>\n",
       "      <td>A</td>\n",
       "      <td>72879</td>\n",
       "      <td>M</td>\n",
       "      <td>B</td>\n",
       "      <td>68.94</td>\n",
       "      <td>19521225</td>\n",
       "      <td>14:62</td>\n",
       "      <td>H</td>\n",
       "      <td>...</td>\n",
       "      <td>0150000</td>\n",
       "      <td>LIFE</td>\n",
       "      <td>ORLEANS</td>\n",
       "      <td>False</td>\n",
       "      <td>False</td>\n",
       "      <td>False</td>\n",
       "      <td>False</td>\n",
       "      <td>False</td>\n",
       "      <td>False</td>\n",
       "      <td>False</td>\n",
       "    </tr>\n",
       "    <tr>\n",
       "      <th>5</th>\n",
       "      <td>FINLEY</td>\n",
       "      <td>DOLPH</td>\n",
       "      <td>NaN</td>\n",
       "      <td>75033</td>\n",
       "      <td>M</td>\n",
       "      <td>B</td>\n",
       "      <td>72.38</td>\n",
       "      <td>19490719</td>\n",
       "      <td>14:64.1</td>\n",
       "      <td>H</td>\n",
       "      <td>...</td>\n",
       "      <td>0290629</td>\n",
       "      <td>0290629</td>\n",
       "      <td>RAPIDES</td>\n",
       "      <td>False</td>\n",
       "      <td>False</td>\n",
       "      <td>False</td>\n",
       "      <td>False</td>\n",
       "      <td>False</td>\n",
       "      <td>False</td>\n",
       "      <td>False</td>\n",
       "    </tr>\n",
       "    <tr>\n",
       "      <th>7</th>\n",
       "      <td>GORDON</td>\n",
       "      <td>DANIEL</td>\n",
       "      <td>NaN</td>\n",
       "      <td>78855</td>\n",
       "      <td>M</td>\n",
       "      <td>B</td>\n",
       "      <td>66.73</td>\n",
       "      <td>19550312</td>\n",
       "      <td>14:65</td>\n",
       "      <td>H</td>\n",
       "      <td>...</td>\n",
       "      <td>0140000</td>\n",
       "      <td>LIFE</td>\n",
       "      <td>ORLEANS</td>\n",
       "      <td>False</td>\n",
       "      <td>False</td>\n",
       "      <td>False</td>\n",
       "      <td>False</td>\n",
       "      <td>False</td>\n",
       "      <td>False</td>\n",
       "      <td>False</td>\n",
       "    </tr>\n",
       "    <tr>\n",
       "      <th>12</th>\n",
       "      <td>NICHOLAS</td>\n",
       "      <td>MICHAEL</td>\n",
       "      <td>NaN</td>\n",
       "      <td>81555</td>\n",
       "      <td>M</td>\n",
       "      <td>B</td>\n",
       "      <td>70.04</td>\n",
       "      <td>19511119</td>\n",
       "      <td>14:67</td>\n",
       "      <td>H</td>\n",
       "      <td>...</td>\n",
       "      <td>LIFE</td>\n",
       "      <td>LIFE</td>\n",
       "      <td>ORLEANS</td>\n",
       "      <td>False</td>\n",
       "      <td>False</td>\n",
       "      <td>False</td>\n",
       "      <td>False</td>\n",
       "      <td>False</td>\n",
       "      <td>False</td>\n",
       "      <td>False</td>\n",
       "    </tr>\n",
       "  </tbody>\n",
       "</table>\n",
       "<p>5 rows × 24 columns</p>\n",
       "</div>"
      ],
      "text/plain": [
       "   Last Name First Name Middle Initial  DOC Number Gender Race Current Age  \\\n",
       "0       GRAY     JOSEPH            NaN       72486      M    B       81.90   \n",
       "3     MARTIN    WENDELL              A       72879      M    B       68.94   \n",
       "5     FINLEY      DOLPH            NaN       75033      M    B       72.38   \n",
       "7     GORDON     DANIEL            NaN       78855      M    B       66.73   \n",
       "12  NICHOLAS    MICHAEL            NaN       81555      M    B       70.04   \n",
       "\n",
       "    Birth Date Offense Statute Modifier 1  ... Imposed Length  \\\n",
       "0     19400110           14:64          H  ...           LIFE   \n",
       "3     19521225           14:62          H  ...        0150000   \n",
       "5     19490719         14:64.1          H  ...        0290629   \n",
       "7     19550312           14:65          H  ...        0140000   \n",
       "12    19511119           14:67          H  ...           LIFE   \n",
       "\n",
       "   Overall Sentence Length  Parish Literal  first_degree_murder  \\\n",
       "0                     LIFE       IBERVILLE                False   \n",
       "3                     LIFE         ORLEANS                False   \n",
       "5                  0290629         RAPIDES                False   \n",
       "7                     LIFE         ORLEANS                False   \n",
       "12                    LIFE         ORLEANS                False   \n",
       "\n",
       "   second_degree_murder   rape  drugs   poss   pwid   dist  \n",
       "0                 False  False  False  False  False  False  \n",
       "3                 False  False  False  False  False  False  \n",
       "5                 False  False  False  False  False  False  \n",
       "7                 False  False  False  False  False  False  \n",
       "12                False  False  False  False  False  False  \n",
       "\n",
       "[5 rows x 24 columns]"
      ]
     },
     "execution_count": 22,
     "metadata": {},
     "output_type": "execute_result"
    }
   ],
   "source": [
    "revised_la_ho_data = only_hos.assign(\n",
    "    first_degree_murder=first_degree_murder,\n",
    "    second_degree_murder=second_degree_murder,\n",
    "    rape=rape,\n",
    "    drugs=drugs,\n",
    "    poss=poss,\n",
    "    pwid=pwid,\n",
    "    dist=dist,\n",
    ")\n",
    "revised_la_ho_data.head()"
   ]
  },
  {
   "cell_type": "markdown",
   "id": "0d71f4e8",
   "metadata": {},
   "source": [
    "### Identifying Unique Persons\n",
    "Our next challenge is counting the number of unique persons charged with each offense, as well the total number of unique people in the data set. We do this by grouping the data by `DOC Number`."
   ]
  },
  {
   "cell_type": "code",
   "execution_count": 23,
   "id": "f9b5d31e",
   "metadata": {},
   "outputs": [],
   "source": [
    "by_doc_no = revised_la_ho_data.groupby(\"DOC Number\")"
   ]
  },
  {
   "cell_type": "markdown",
   "id": "79a596d0",
   "metadata": {},
   "source": [
    "This lets us count the number of unique persons in the dataset:"
   ]
  },
  {
   "cell_type": "code",
   "execution_count": 24,
   "id": "7a780c4b",
   "metadata": {
    "scrolled": true
   },
   "outputs": [
    {
     "data": {
      "text/plain": [
       "884"
      ]
     },
     "execution_count": 24,
     "metadata": {},
     "output_type": "execute_result"
    }
   ],
   "source": [
    "len(by_doc_no.groups)"
   ]
  },
  {
   "cell_type": "markdown",
   "id": "6a98c01c",
   "metadata": {},
   "source": [
    "#### First Degree Murder\n",
    "Now, we can count the number of people who have been charged with first degree murder:"
   ]
  },
  {
   "cell_type": "code",
   "execution_count": 25,
   "id": "1233ac9b",
   "metadata": {},
   "outputs": [
    {
     "data": {
      "text/plain": [
       "23"
      ]
     },
     "execution_count": 25,
     "metadata": {},
     "output_type": "execute_result"
    }
   ],
   "source": [
    "by_doc_no[\"first_degree_murder\"].any().sum()"
   ]
  },
  {
   "cell_type": "markdown",
   "id": "6ca355ab",
   "metadata": {},
   "source": [
    "#### Second Degree Murder\n",
    "And again:"
   ]
  },
  {
   "cell_type": "code",
   "execution_count": 26,
   "id": "6647b6af",
   "metadata": {},
   "outputs": [
    {
     "data": {
      "text/plain": [
       "41"
      ]
     },
     "execution_count": 26,
     "metadata": {},
     "output_type": "execute_result"
    }
   ],
   "source": [
    "by_doc_no[\"second_degree_murder\"].any().sum()"
   ]
  },
  {
   "cell_type": "markdown",
   "id": "7817bd36",
   "metadata": {},
   "source": [
    "#### Rape\n",
    "Same deal here:"
   ]
  },
  {
   "cell_type": "code",
   "execution_count": 27,
   "id": "10dc992e",
   "metadata": {},
   "outputs": [
    {
     "data": {
      "text/plain": [
       "51"
      ]
     },
     "execution_count": 27,
     "metadata": {},
     "output_type": "execute_result"
    }
   ],
   "source": [
    "by_doc_no[\"rape\"].any().sum()"
   ]
  },
  {
   "cell_type": "markdown",
   "id": "1859fcc4",
   "metadata": {},
   "source": [
    "#### Drugs"
   ]
  },
  {
   "cell_type": "code",
   "execution_count": 28,
   "id": "46fa2fc5",
   "metadata": {},
   "outputs": [
    {
     "data": {
      "text/plain": [
       "126"
      ]
     },
     "execution_count": 28,
     "metadata": {},
     "output_type": "execute_result"
    }
   ],
   "source": [
    "by_doc_no[\"drugs\"].any().sum()"
   ]
  },
  {
   "cell_type": "markdown",
   "id": "b08b1538",
   "metadata": {},
   "source": [
    "#### Possession"
   ]
  },
  {
   "cell_type": "code",
   "execution_count": 29,
   "id": "45b0328c",
   "metadata": {},
   "outputs": [
    {
     "data": {
      "text/plain": [
       "64"
      ]
     },
     "execution_count": 29,
     "metadata": {},
     "output_type": "execute_result"
    }
   ],
   "source": [
    "by_doc_no[\"poss\"].any().sum()"
   ]
  },
  {
   "cell_type": "markdown",
   "id": "dfcdf45e",
   "metadata": {},
   "source": [
    "#### PWID"
   ]
  },
  {
   "cell_type": "code",
   "execution_count": 30,
   "id": "516dd736",
   "metadata": {},
   "outputs": [
    {
     "data": {
      "text/plain": [
       "34"
      ]
     },
     "execution_count": 30,
     "metadata": {},
     "output_type": "execute_result"
    }
   ],
   "source": [
    "by_doc_no[\"pwid\"].any().sum()"
   ]
  },
  {
   "cell_type": "markdown",
   "id": "547cb98a",
   "metadata": {},
   "source": [
    "#### Distribution"
   ]
  },
  {
   "cell_type": "code",
   "execution_count": 31,
   "id": "147ae353",
   "metadata": {},
   "outputs": [
    {
     "data": {
      "text/plain": [
       "34"
      ]
     },
     "execution_count": 31,
     "metadata": {},
     "output_type": "execute_result"
    }
   ],
   "source": [
    "by_doc_no[\"dist\"].any().sum()"
   ]
  },
  {
   "cell_type": "markdown",
   "id": "87fadc93",
   "metadata": {},
   "source": [
    "## One Big Complication\n",
    "There's one big complication with using these numbers as is: The language in the draft implies that we're talking about the _most serious_ offense that each person is charged with, but it's possible, for instance, that someone charged with drug possession was also charged with murder, in which case it's misleading to say that they're in prison for drug possession. To rectify this, we identify the most serious charge for each person, based on sentence length."
   ]
  },
  {
   "cell_type": "markdown",
   "id": "aa4a505a",
   "metadata": {},
   "source": [
    "### Calculating sentence length"
   ]
  },
  {
   "cell_type": "markdown",
   "id": "3b570cfc",
   "metadata": {},
   "source": [
    "This is a bit tricky, because the data uses a somewhat odd format for sentence lengths: \"Sentence Lengths are read as yyy/mm/dd. 0290629 is 029 years, 6 months, and 29 days.\"\n",
    "Thus, our first task is to create a more usable sentence-length column."
   ]
  },
  {
   "cell_type": "code",
   "execution_count": 32,
   "id": "1601c01e",
   "metadata": {},
   "outputs": [],
   "source": [
    "def parse_sentence_length(sentence_str):\n",
    "    sentence_str = sentence_str.upper()  # some are lower case\n",
    "    if (sentence_str == \"DEATH\"):\n",
    "        return 999999999999999  # Just return a big number so that it's higher than any non-death sentence\n",
    "    if (sentence_str == \"LIFE\"):\n",
    "        return 100000000000000  # Just return a big number so that it's higher than any non-life sentence\n",
    "    if not sentence_str:\n",
    "        return pd.NA  # In case it's blank, we shouldn't try to parse\n",
    "    if len(sentence_str) < 7:\n",
    "        sentence_str = \"0\" + sentence_str  # Make sure the leading zeros didn't get cut off\n",
    "    years = int(sentence_str[:3])\n",
    "    months = int(sentence_str[3:5])\n",
    "    days = int(sentence_str[5:])\n",
    "    return years + months / 12 + days / 365"
   ]
  },
  {
   "cell_type": "code",
   "execution_count": 33,
   "id": "4a78b50e",
   "metadata": {},
   "outputs": [],
   "source": [
    "sentence_length = pd.to_numeric(\n",
    "    revised_la_ho_data[\"Imposed Length\"].fillna(\"\").map(parse_sentence_length)\n",
    ")"
   ]
  },
  {
   "cell_type": "code",
   "execution_count": 34,
   "id": "0f4cc535",
   "metadata": {
    "scrolled": true
   },
   "outputs": [
    {
     "data": {
      "text/plain": [
       "count    1.194000e+03\n",
       "mean     3.643216e+13\n",
       "std      4.814411e+13\n",
       "min      2.739726e-03\n",
       "25%      2.000000e+01\n",
       "50%      5.000000e+01\n",
       "75%      1.000000e+14\n",
       "max      1.000000e+14\n",
       "Name: Imposed Length, dtype: float64"
      ]
     },
     "execution_count": 34,
     "metadata": {},
     "output_type": "execute_result"
    }
   ],
   "source": [
    "sentence_length.describe()"
   ]
  },
  {
   "cell_type": "code",
   "execution_count": 35,
   "id": "d3dd39b6",
   "metadata": {},
   "outputs": [],
   "source": [
    "with_sentence_lengths = revised_la_ho_data.assign(\n",
    "    sentence_length=sentence_length\n",
    ")"
   ]
  },
  {
   "cell_type": "markdown",
   "id": "fbb52f2e",
   "metadata": {},
   "source": [
    "Now, we can ID the most serious offense for each person (allowing for ties) as follows:"
   ]
  },
  {
   "cell_type": "code",
   "execution_count": 36,
   "id": "efa4cef9",
   "metadata": {},
   "outputs": [],
   "source": [
    "def most_serious(df, doc_no):\n",
    "    person_charges = df.loc[\n",
    "        df[\"DOC Number\"] == doc_no\n",
    "    ]\n",
    "    max_sentence = person_charges[\"sentence_length\"].max()\n",
    "    return person_charges.loc[\n",
    "        person_charges[\"sentence_length\"] == max_sentence\n",
    "    ]"
   ]
  },
  {
   "cell_type": "code",
   "execution_count": 37,
   "id": "5e5e1ac3",
   "metadata": {},
   "outputs": [],
   "source": [
    "def is_most_serious(df, row):\n",
    "    most_serious_off = most_serious(df, row[\"DOC Number\"])\n",
    "    return row[\"Offense Statute\"] in most_serious_off[\"Offense Statute\"].values"
   ]
  },
  {
   "cell_type": "code",
   "execution_count": 38,
   "id": "46ef7820",
   "metadata": {},
   "outputs": [],
   "source": [
    "is_most_serious = with_sentence_lengths.apply(\n",
    "    lambda row: is_most_serious(with_sentence_lengths, row), axis=1\n",
    ")"
   ]
  },
  {
   "cell_type": "code",
   "execution_count": 39,
   "id": "bd7d7012",
   "metadata": {},
   "outputs": [
    {
     "data": {
      "text/plain": [
       "1056"
      ]
     },
     "execution_count": 39,
     "metadata": {},
     "output_type": "execute_result"
    }
   ],
   "source": [
    "is_most_serious.sum()"
   ]
  },
  {
   "cell_type": "markdown",
   "id": "0dd8baa5",
   "metadata": {},
   "source": [
    "Now we can filter the data to only include the most serious offenses for each person:"
   ]
  },
  {
   "cell_type": "code",
   "execution_count": 40,
   "id": "3ae6df5c",
   "metadata": {},
   "outputs": [],
   "source": [
    "only_most_serious = with_sentence_lengths.assign(\n",
    "    most_serious = is_most_serious\n",
    ").loc[is_most_serious]"
   ]
  },
  {
   "cell_type": "markdown",
   "id": "b305a5bd",
   "metadata": {},
   "source": [
    "And then re-run the calculations from above:"
   ]
  },
  {
   "cell_type": "code",
   "execution_count": 41,
   "id": "4fa8fcbf",
   "metadata": {},
   "outputs": [],
   "source": [
    "by_doc_no_most_serious = only_most_serious.groupby(\"DOC Number\")"
   ]
  },
  {
   "cell_type": "code",
   "execution_count": 42,
   "id": "6a2dad58",
   "metadata": {},
   "outputs": [
    {
     "data": {
      "text/plain": [
       "884"
      ]
     },
     "execution_count": 42,
     "metadata": {},
     "output_type": "execute_result"
    }
   ],
   "source": [
    "len(by_doc_no_most_serious.groups)"
   ]
  },
  {
   "cell_type": "markdown",
   "id": "05ff63eb",
   "metadata": {},
   "source": [
    "#### First Degree Murder"
   ]
  },
  {
   "cell_type": "code",
   "execution_count": 43,
   "id": "f5004317",
   "metadata": {},
   "outputs": [
    {
     "data": {
      "text/plain": [
       "21"
      ]
     },
     "execution_count": 43,
     "metadata": {},
     "output_type": "execute_result"
    }
   ],
   "source": [
    "by_doc_no_most_serious[\"first_degree_murder\"].any().sum()"
   ]
  },
  {
   "cell_type": "markdown",
   "id": "e202905b",
   "metadata": {},
   "source": [
    "#### Second Degree Murder"
   ]
  },
  {
   "cell_type": "code",
   "execution_count": 44,
   "id": "fe663b85",
   "metadata": {},
   "outputs": [
    {
     "data": {
      "text/plain": [
       "40"
      ]
     },
     "execution_count": 44,
     "metadata": {},
     "output_type": "execute_result"
    }
   ],
   "source": [
    "by_doc_no_most_serious[\"second_degree_murder\"].any().sum()"
   ]
  },
  {
   "cell_type": "markdown",
   "id": "df22f055",
   "metadata": {},
   "source": [
    "#### Rape"
   ]
  },
  {
   "cell_type": "code",
   "execution_count": 45,
   "id": "b6e63531",
   "metadata": {},
   "outputs": [
    {
     "data": {
      "text/plain": [
       "51"
      ]
     },
     "execution_count": 45,
     "metadata": {},
     "output_type": "execute_result"
    }
   ],
   "source": [
    "by_doc_no_most_serious[\"rape\"].any().sum()"
   ]
  },
  {
   "cell_type": "markdown",
   "id": "e91cf51b",
   "metadata": {},
   "source": [
    "#### Drugs"
   ]
  },
  {
   "cell_type": "code",
   "execution_count": 46,
   "id": "b1041250",
   "metadata": {},
   "outputs": [
    {
     "data": {
      "text/plain": [
       "111"
      ]
     },
     "execution_count": 46,
     "metadata": {},
     "output_type": "execute_result"
    }
   ],
   "source": [
    "by_doc_no_most_serious[\"drugs\"].any().sum()"
   ]
  },
  {
   "cell_type": "markdown",
   "id": "3d8c60bb",
   "metadata": {},
   "source": [
    "#### Posssession"
   ]
  },
  {
   "cell_type": "code",
   "execution_count": 47,
   "id": "fdcc2e73",
   "metadata": {},
   "outputs": [
    {
     "data": {
      "text/plain": [
       "49"
      ]
     },
     "execution_count": 47,
     "metadata": {},
     "output_type": "execute_result"
    }
   ],
   "source": [
    "by_doc_no_most_serious[\"poss\"].any().sum()"
   ]
  },
  {
   "cell_type": "markdown",
   "id": "01bd45ef",
   "metadata": {},
   "source": [
    "#### PWID"
   ]
  },
  {
   "cell_type": "code",
   "execution_count": 48,
   "id": "b74b8a8f",
   "metadata": {},
   "outputs": [
    {
     "data": {
      "text/plain": [
       "34"
      ]
     },
     "execution_count": 48,
     "metadata": {},
     "output_type": "execute_result"
    }
   ],
   "source": [
    "by_doc_no_most_serious[\"pwid\"].any().sum()"
   ]
  },
  {
   "cell_type": "markdown",
   "id": "14c471be",
   "metadata": {},
   "source": [
    "#### Distribution"
   ]
  },
  {
   "cell_type": "code",
   "execution_count": 49,
   "id": "4e9c7265",
   "metadata": {},
   "outputs": [
    {
     "data": {
      "text/plain": [
       "31"
      ]
     },
     "execution_count": 49,
     "metadata": {},
     "output_type": "execute_result"
    }
   ],
   "source": [
    "by_doc_no_most_serious[\"dist\"].any().sum()"
   ]
  },
  {
   "cell_type": "markdown",
   "id": "8e395bf1",
   "metadata": {},
   "source": [
    "### Most Common Top Charges (not filtered by unique)"
   ]
  },
  {
   "cell_type": "code",
   "execution_count": 50,
   "id": "2e2fb242",
   "metadata": {},
   "outputs": [
    {
     "data": {
      "text/plain": [
       "14:64        195\n",
       "14:95.1       75\n",
       "40:967        72\n",
       "14:31         56\n",
       "14:64.1       53\n",
       "14:30.1       40\n",
       "14:60         38\n",
       "40:966        32\n",
       "14:42.1       31\n",
       "14:62         30\n",
       "14:34         30\n",
       "14:30         22\n",
       "14:65         20\n",
       "14:44.1       20\n",
       "14:34.1       19\n",
       "14:42         17\n",
       "14:81.2       15\n",
       "14:65.1       15\n",
       "14:78.1       13\n",
       "14:64.3       13\n",
       "14:62.2       13\n",
       "14:108.1C     12\n",
       "14:402        11\n",
       "14:34.7       11\n",
       "14:43.1       11\n",
       "Name: Offense Statute, dtype: int64"
      ]
     },
     "execution_count": 50,
     "metadata": {},
     "output_type": "execute_result"
    }
   ],
   "source": [
    "only_most_serious[\"Offense Statute\"].value_counts().head(25)"
   ]
  },
  {
   "cell_type": "code",
   "execution_count": 48,
   "id": "4e29592b",
   "metadata": {},
   "outputs": [
    {
     "data": {
      "text/html": [
       "<div>\n",
       "<style scoped>\n",
       "    .dataframe tbody tr th:only-of-type {\n",
       "        vertical-align: middle;\n",
       "    }\n",
       "\n",
       "    .dataframe tbody tr th {\n",
       "        vertical-align: top;\n",
       "    }\n",
       "\n",
       "    .dataframe thead th {\n",
       "        text-align: right;\n",
       "    }\n",
       "</style>\n",
       "<table border=\"1\" class=\"dataframe\">\n",
       "  <thead>\n",
       "    <tr style=\"text-align: right;\">\n",
       "      <th></th>\n",
       "      <th>Last Name</th>\n",
       "      <th>First Name</th>\n",
       "      <th>Middle Initial</th>\n",
       "      <th>DOC Number</th>\n",
       "      <th>Gender</th>\n",
       "      <th>Race</th>\n",
       "      <th>Current Age</th>\n",
       "      <th>Birth Date</th>\n",
       "      <th>Offense Statute</th>\n",
       "      <th>Modifier 1</th>\n",
       "      <th>...</th>\n",
       "      <th>Imposed Length</th>\n",
       "      <th>Overall Sentence Length</th>\n",
       "      <th>Parish Literal</th>\n",
       "      <th>first_degree_murder</th>\n",
       "      <th>rape</th>\n",
       "      <th>drugs</th>\n",
       "      <th>poss</th>\n",
       "      <th>pwid</th>\n",
       "      <th>dist</th>\n",
       "      <th>sentence_length</th>\n",
       "    </tr>\n",
       "  </thead>\n",
       "  <tbody>\n",
       "    <tr>\n",
       "      <th>362</th>\n",
       "      <td>PITTMAN</td>\n",
       "      <td>BILLY</td>\n",
       "      <td>M</td>\n",
       "      <td>110215</td>\n",
       "      <td>M</td>\n",
       "      <td>W</td>\n",
       "      <td>57.20</td>\n",
       "      <td>19640919</td>\n",
       "      <td>14:30</td>\n",
       "      <td>H</td>\n",
       "      <td>...</td>\n",
       "      <td>1000000</td>\n",
       "      <td>LIFE</td>\n",
       "      <td>W. FELICIANA</td>\n",
       "      <td>True</td>\n",
       "      <td>False</td>\n",
       "      <td>False</td>\n",
       "      <td>False</td>\n",
       "      <td>False</td>\n",
       "      <td>False</td>\n",
       "      <td>100.0</td>\n",
       "    </tr>\n",
       "    <tr>\n",
       "      <th>369</th>\n",
       "      <td>EDGAR</td>\n",
       "      <td>JAMES</td>\n",
       "      <td>NaN</td>\n",
       "      <td>110300</td>\n",
       "      <td>M</td>\n",
       "      <td>B</td>\n",
       "      <td>59.15</td>\n",
       "      <td>19621008</td>\n",
       "      <td>14:30</td>\n",
       "      <td>H</td>\n",
       "      <td>...</td>\n",
       "      <td>0500000</td>\n",
       "      <td>LIFE</td>\n",
       "      <td>ORLEANS</td>\n",
       "      <td>True</td>\n",
       "      <td>False</td>\n",
       "      <td>False</td>\n",
       "      <td>False</td>\n",
       "      <td>False</td>\n",
       "      <td>False</td>\n",
       "      <td>50.0</td>\n",
       "    </tr>\n",
       "  </tbody>\n",
       "</table>\n",
       "<p>2 rows × 24 columns</p>\n",
       "</div>"
      ],
      "text/plain": [
       "    Last Name First Name Middle Initial  DOC Number Gender Race Current Age  \\\n",
       "362   PITTMAN      BILLY              M      110215      M    W       57.20   \n",
       "369     EDGAR      JAMES            NaN      110300      M    B       59.15   \n",
       "\n",
       "     Birth Date Offense Statute Modifier 1  ... Imposed Length  \\\n",
       "362    19640919           14:30          H  ...        1000000   \n",
       "369    19621008           14:30          H  ...        0500000   \n",
       "\n",
       "    Overall Sentence Length  Parish Literal  first_degree_murder   rape  \\\n",
       "362                    LIFE    W. FELICIANA                 True  False   \n",
       "369                    LIFE         ORLEANS                 True  False   \n",
       "\n",
       "     drugs   poss   pwid   dist  sentence_length  \n",
       "362  False  False  False  False            100.0  \n",
       "369  False  False  False  False             50.0  \n",
       "\n",
       "[2 rows x 24 columns]"
      ]
     },
     "execution_count": 48,
     "metadata": {},
     "output_type": "execute_result"
    }
   ],
   "source": [
    "with_sentence_lengths.loc[\n",
    "    with_sentence_lengths[\"first_degree_murder\"]\n",
    "    & ~is_most_serious\n",
    "]"
   ]
  },
  {
   "cell_type": "code",
   "execution_count": null,
   "id": "0d6e73ec",
   "metadata": {},
   "outputs": [],
   "source": []
  }
 ],
 "metadata": {
  "kernelspec": {
   "display_name": "Python 3 (ipykernel)",
   "language": "python",
   "name": "python3"
  },
  "language_info": {
   "codemirror_mode": {
    "name": "ipython",
    "version": 3
   },
   "file_extension": ".py",
   "mimetype": "text/x-python",
   "name": "python",
   "nbconvert_exporter": "python",
   "pygments_lexer": "ipython3",
   "version": "3.10.4"
  }
 },
 "nbformat": 4,
 "nbformat_minor": 5
}
